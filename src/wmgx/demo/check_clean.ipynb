{
 "cells": [
  {
   "cell_type": "code",
   "execution_count": 7,
   "metadata": {},
   "outputs": [],
   "source": [
    "from Bio import SeqIO\n",
    "input_file = \"/proj/naiss2024-6-169/users/x_xwang/data/metagenomics/test_process_clean/ERR3986544_2_clean.fastq\"\n",
    "\n",
    "with open(input_file, \"r\") as handle:\n",
    "    for record in SeqIO.QualityIO.FastqGeneralIterator(handle):\n",
    "        if len(record[1]) != len(record[2]):\n",
    "            print(f\"Inconsistent read found: {record[0]}\")"
   ]
  },
  {
   "cell_type": "code",
   "execution_count": null,
   "metadata": {},
   "outputs": [],
   "source": []
  }
 ],
 "metadata": {
  "kernelspec": {
   "display_name": "Python 3",
   "language": "python",
   "name": "python3"
  },
  "language_info": {
   "codemirror_mode": {
    "name": "ipython",
    "version": 3
   },
   "file_extension": ".py",
   "mimetype": "text/x-python",
   "name": "python",
   "nbconvert_exporter": "python",
   "pygments_lexer": "ipython3",
   "version": "3.10.14"
  }
 },
 "nbformat": 4,
 "nbformat_minor": 2
}
